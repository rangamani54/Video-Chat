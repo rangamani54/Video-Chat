{
 "cells": [
  {
   "cell_type": "code",
   "execution_count": 1,
   "metadata": {},
   "outputs": [],
   "source": [
    "import socket,cv2,pickle,struct"
   ]
  },
  {
   "cell_type": "code",
   "execution_count": null,
   "metadata": {},
   "outputs": [
    {
     "name": "stdout",
     "output_type": "stream",
     "text": [
      "LISTENING AT: ('192.168.99.1', 9999)\n",
      "Connection accepted for ('192.168.99.1', 49652)\n"
     ]
    }
   ],
   "source": [
    "server = socket.socket()  #Creating socket\n",
    "socket.socket\n",
    "IP = \"192.168.99.1\"\n",
    "port = 9999\n",
    "socket_address = (IP,port)\n",
    "\n",
    "\n",
    "#Socket bind\n",
    "server.bind(socket_address)\n",
    "\n",
    "#Socket Listening for senders\n",
    "server.listen(5)     #Allow of max 5, 5 clients can connect\n",
    "print(\"LISTENING AT:\",socket_address)\n",
    "\n",
    "#Acceptinng the clinets\n",
    "while True:\n",
    "    client, addr = server.accept()\n",
    "    print(\"Connection accepted for {}\".format(addr))\n",
    "    if client:\n",
    "        cap = cv2.VideoCapture(1)    #Activating the device for capturing\n",
    "        while(cap.isOpened()):\n",
    "            ret, photo = cap.read() #Capturing the video and each frame storing in photo variable with return value in ret variable\n",
    "            msg = pickle.dumps(photo)  #Serialising the data of photo as we want to send through socket\n",
    "            data = struct.pack(\"Q\",len(msg))+msg  \n",
    "            client.sendall(data)\n",
    "            cv2.imshow('Sending Video',photo)  #Showing our Video which is transmitting\n",
    "            if cv2.waitKey(1) == 13:\n",
    "                break\n",
    "cv2.destroyAllWindows()\n",
    "#cap.release()\n",
    "                \n",
    "    \n",
    "client_socket.close()\n",
    "            "
   ]
  },
  {
   "cell_type": "code",
   "execution_count": null,
   "metadata": {},
   "outputs": [],
   "source": []
  },
  {
   "cell_type": "code",
   "execution_count": null,
   "metadata": {},
   "outputs": [],
   "source": []
  }
 ],
 "metadata": {
  "kernelspec": {
   "display_name": "Python 3",
   "language": "python",
   "name": "python3"
  },
  "language_info": {
   "codemirror_mode": {
    "name": "ipython",
    "version": 3
   },
   "file_extension": ".py",
   "mimetype": "text/x-python",
   "name": "python",
   "nbconvert_exporter": "python",
   "pygments_lexer": "ipython3",
   "version": "3.8.3"
  }
 },
 "nbformat": 4,
 "nbformat_minor": 5
}
