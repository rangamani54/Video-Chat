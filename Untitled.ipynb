{
 "cells": [
  {
   "cell_type": "code",
   "execution_count": 1,
   "metadata": {},
   "outputs": [],
   "source": [
    "import socket,cv2,pickle,struct"
   ]
  },
  {
   "cell_type": "code",
   "execution_count": null,
   "metadata": {},
   "outputs": [],
   "source": [
    "#create socket\n",
    "client = socket.socket()\n",
    "IP = \"192.168.99.1\"\n",
    "port = 9999\n",
    "client.connect((IP,port))\n",
    "data = b\"\"  \n",
    "payload_size = struct.calcsize(\"Q\")   \n",
    "while True:\n",
    "    while len(data)<payload_size:\n",
    "        msg = client.recv(4*1024)   #Receiving the data in 4k buffer size\n",
    "        if not msg:break\n",
    "        data+=msg\n",
    "    msg_size = data[:payload_size]\n",
    "    data = data[payload_size:]\n",
    "    msg_size = struct.unpack(\"Q\",msg_size)[0]\n",
    "    \n",
    "    while len(data) < msg_size:\n",
    "        data += client.recv(4*1024)\n",
    "    photo_data = data[:msg_size]\n",
    "    data = data[msg_size:]\n",
    "    photo = pickle.loads(photo_data)\n",
    "    cv2.imshow(\"Received\",photo)\n",
    "    if cv2.waitKey(1) == 13:\n",
    "        break\n",
    "cv2.destroyAllWindows()\n",
    "#cap.release()\n",
    "\n",
    "\n",
    "client_socket.close()"
   ]
  },
  {
   "cell_type": "code",
   "execution_count": null,
   "metadata": {},
   "outputs": [],
   "source": []
  }
 ],
 "metadata": {
  "kernelspec": {
   "display_name": "Python 3",
   "language": "python",
   "name": "python3"
  },
  "language_info": {
   "codemirror_mode": {
    "name": "ipython",
    "version": 3
   },
   "file_extension": ".py",
   "mimetype": "text/x-python",
   "name": "python",
   "nbconvert_exporter": "python",
   "pygments_lexer": "ipython3",
   "version": "3.8.3"
  }
 },
 "nbformat": 4,
 "nbformat_minor": 4
}
